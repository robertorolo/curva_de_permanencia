{
 "cells": [
  {
   "cell_type": "code",
   "execution_count": 1,
   "metadata": {},
   "outputs": [],
   "source": [
    "import vazoes"
   ]
  },
  {
   "cell_type": "code",
   "execution_count": 2,
   "metadata": {},
   "outputs": [],
   "source": [
    "base = vazoes.Estacao('dados/vazoes/vazoes_C_70500000.csv')\n",
    "e1 = vazoes.Estacao('dados/vazoes/vazoes_C_70100000.csv')\n",
    "e2 = vazoes.Estacao('dados/vazoes/vazoes_C_70300000.csv')\n",
    "e3 = vazoes.Estacao('dados/vazoes/vazoes_C_86160000.csv')"
   ]
  },
  {
   "cell_type": "code",
   "execution_count": 3,
   "metadata": {},
   "outputs": [
    {
     "data": {
      "text/html": [
       "<div>\n",
       "<style scoped>\n",
       "    .dataframe tbody tr th:only-of-type {\n",
       "        vertical-align: middle;\n",
       "    }\n",
       "\n",
       "    .dataframe tbody tr th {\n",
       "        vertical-align: top;\n",
       "    }\n",
       "\n",
       "    .dataframe thead th {\n",
       "        text-align: right;\n",
       "    }\n",
       "</style>\n",
       "<table border=\"1\" class=\"dataframe\">\n",
       "  <thead>\n",
       "    <tr style=\"text-align: right;\">\n",
       "      <th></th>\n",
       "      <th>EstacaoCodigo</th>\n",
       "      <th>NivelConsistencia</th>\n",
       "      <th>Data</th>\n",
       "      <th>Hora</th>\n",
       "      <th>MediaDiaria</th>\n",
       "      <th>MetodoObtencaoVazoes</th>\n",
       "      <th>Maxima</th>\n",
       "      <th>Minima</th>\n",
       "      <th>Media</th>\n",
       "      <th>DiaMaxima</th>\n",
       "      <th>...</th>\n",
       "      <th>Vazao22Status</th>\n",
       "      <th>Vazao23Status</th>\n",
       "      <th>Vazao24Status</th>\n",
       "      <th>Vazao25Status</th>\n",
       "      <th>Vazao26Status</th>\n",
       "      <th>Vazao27Status</th>\n",
       "      <th>Vazao28Status</th>\n",
       "      <th>Vazao29Status</th>\n",
       "      <th>Vazao30Status</th>\n",
       "      <th>Vazao31Status</th>\n",
       "    </tr>\n",
       "  </thead>\n",
       "  <tbody>\n",
       "    <tr>\n",
       "      <th>0</th>\n",
       "      <td>70500000</td>\n",
       "      <td>Bruto</td>\n",
       "      <td>01/08/2020</td>\n",
       "      <td>NaN</td>\n",
       "      <td>Sim</td>\n",
       "      <td>Curvadedescarga</td>\n",
       "      <td>138,103</td>\n",
       "      <td>4,252</td>\n",
       "      <td>16,296</td>\n",
       "      <td>15.0</td>\n",
       "      <td>...</td>\n",
       "      <td>Real</td>\n",
       "      <td>Real</td>\n",
       "      <td>Real</td>\n",
       "      <td>Real</td>\n",
       "      <td>Real</td>\n",
       "      <td>Real</td>\n",
       "      <td>Real</td>\n",
       "      <td>Real</td>\n",
       "      <td>Real</td>\n",
       "      <td>Real</td>\n",
       "    </tr>\n",
       "    <tr>\n",
       "      <th>1</th>\n",
       "      <td>70500000</td>\n",
       "      <td>Bruto</td>\n",
       "      <td>01/07/2020</td>\n",
       "      <td>NaN</td>\n",
       "      <td>Sim</td>\n",
       "      <td>Curvadedescarga</td>\n",
       "      <td>141,355</td>\n",
       "      <td>7,508</td>\n",
       "      <td>29,344</td>\n",
       "      <td>8.0</td>\n",
       "      <td>...</td>\n",
       "      <td>Real</td>\n",
       "      <td>Real</td>\n",
       "      <td>Real</td>\n",
       "      <td>Real</td>\n",
       "      <td>Real</td>\n",
       "      <td>Real</td>\n",
       "      <td>Real</td>\n",
       "      <td>Real</td>\n",
       "      <td>Real</td>\n",
       "      <td>Real</td>\n",
       "    </tr>\n",
       "    <tr>\n",
       "      <th>2</th>\n",
       "      <td>70500000</td>\n",
       "      <td>Bruto</td>\n",
       "      <td>01/06/2020</td>\n",
       "      <td>NaN</td>\n",
       "      <td>Sim</td>\n",
       "      <td>Curvadedescarga</td>\n",
       "      <td>NaN</td>\n",
       "      <td>NaN</td>\n",
       "      <td>NaN</td>\n",
       "      <td>NaN</td>\n",
       "      <td>...</td>\n",
       "      <td>NaN</td>\n",
       "      <td>NaN</td>\n",
       "      <td>NaN</td>\n",
       "      <td>NaN</td>\n",
       "      <td>NaN</td>\n",
       "      <td>NaN</td>\n",
       "      <td>NaN</td>\n",
       "      <td>NaN</td>\n",
       "      <td>NaN</td>\n",
       "      <td>Branco</td>\n",
       "    </tr>\n",
       "    <tr>\n",
       "      <th>3</th>\n",
       "      <td>70500000</td>\n",
       "      <td>Bruto</td>\n",
       "      <td>01/05/2020</td>\n",
       "      <td>NaN</td>\n",
       "      <td>Sim</td>\n",
       "      <td>Curvadedescarga</td>\n",
       "      <td>NaN</td>\n",
       "      <td>NaN</td>\n",
       "      <td>NaN</td>\n",
       "      <td>NaN</td>\n",
       "      <td>...</td>\n",
       "      <td>Branco</td>\n",
       "      <td>Real</td>\n",
       "      <td>Real</td>\n",
       "      <td>Real</td>\n",
       "      <td>Real</td>\n",
       "      <td>Real</td>\n",
       "      <td>Branco</td>\n",
       "      <td>Branco</td>\n",
       "      <td>Branco</td>\n",
       "      <td>Branco</td>\n",
       "    </tr>\n",
       "    <tr>\n",
       "      <th>4</th>\n",
       "      <td>70500000</td>\n",
       "      <td>Bruto</td>\n",
       "      <td>01/04/2020</td>\n",
       "      <td>NaN</td>\n",
       "      <td>Sim</td>\n",
       "      <td>Curvadedescarga</td>\n",
       "      <td>NaN</td>\n",
       "      <td>NaN</td>\n",
       "      <td>NaN</td>\n",
       "      <td>NaN</td>\n",
       "      <td>...</td>\n",
       "      <td>Branco</td>\n",
       "      <td>Branco</td>\n",
       "      <td>Branco</td>\n",
       "      <td>Branco</td>\n",
       "      <td>Branco</td>\n",
       "      <td>Branco</td>\n",
       "      <td>Branco</td>\n",
       "      <td>Branco</td>\n",
       "      <td>Branco</td>\n",
       "      <td>Branco</td>\n",
       "    </tr>\n",
       "  </tbody>\n",
       "</table>\n",
       "<p>5 rows × 78 columns</p>\n",
       "</div>"
      ],
      "text/plain": [
       "   EstacaoCodigo NivelConsistencia        Data  Hora MediaDiaria  \\\n",
       "0       70500000             Bruto  01/08/2020   NaN         Sim   \n",
       "1       70500000             Bruto  01/07/2020   NaN         Sim   \n",
       "2       70500000             Bruto  01/06/2020   NaN         Sim   \n",
       "3       70500000             Bruto  01/05/2020   NaN         Sim   \n",
       "4       70500000             Bruto  01/04/2020   NaN         Sim   \n",
       "\n",
       "  MetodoObtencaoVazoes   Maxima Minima   Media  DiaMaxima  ...  Vazao22Status  \\\n",
       "0      Curvadedescarga  138,103  4,252  16,296       15.0  ...           Real   \n",
       "1      Curvadedescarga  141,355  7,508  29,344        8.0  ...           Real   \n",
       "2      Curvadedescarga      NaN    NaN     NaN        NaN  ...            NaN   \n",
       "3      Curvadedescarga      NaN    NaN     NaN        NaN  ...         Branco   \n",
       "4      Curvadedescarga      NaN    NaN     NaN        NaN  ...         Branco   \n",
       "\n",
       "   Vazao23Status  Vazao24Status  Vazao25Status  Vazao26Status  Vazao27Status  \\\n",
       "0           Real           Real           Real           Real           Real   \n",
       "1           Real           Real           Real           Real           Real   \n",
       "2            NaN            NaN            NaN            NaN            NaN   \n",
       "3           Real           Real           Real           Real           Real   \n",
       "4         Branco         Branco         Branco         Branco         Branco   \n",
       "\n",
       "  Vazao28Status Vazao29Status Vazao30Status Vazao31Status  \n",
       "0          Real          Real          Real          Real  \n",
       "1          Real          Real          Real          Real  \n",
       "2           NaN           NaN           NaN        Branco  \n",
       "3        Branco        Branco        Branco        Branco  \n",
       "4        Branco        Branco        Branco        Branco  \n",
       "\n",
       "[5 rows x 78 columns]"
      ]
     },
     "execution_count": 3,
     "metadata": {},
     "output_type": "execute_result"
    }
   ],
   "source": [
    "base.data.head()"
   ]
  },
  {
   "cell_type": "code",
   "execution_count": 4,
   "metadata": {},
   "outputs": [
    {
     "name": "stdout",
     "output_type": "stream",
     "text": [
      "Inicializando objeto Estacoes...\n",
      "Feito!\n"
     ]
    }
   ],
   "source": [
    "estacoes = vazoes.Estacoes(base, [e1, e2, e3])"
   ]
  },
  {
   "cell_type": "code",
   "execution_count": 6,
   "metadata": {},
   "outputs": [
    {
     "ename": "TypeError",
     "evalue": "hidrograma() takes 0 positional arguments but 1 was given",
     "output_type": "error",
     "traceback": [
      "\u001b[1;31m---------------------------------------------------------------------------\u001b[0m",
      "\u001b[1;31mTypeError\u001b[0m                                 Traceback (most recent call last)",
      "\u001b[1;32m<ipython-input-6-5b16f66e4946>\u001b[0m in \u001b[0;36m<module>\u001b[1;34m\u001b[0m\n\u001b[1;32m----> 1\u001b[1;33m \u001b[0mestacoes\u001b[0m\u001b[1;33m.\u001b[0m\u001b[0mhidrograma\u001b[0m\u001b[1;33m(\u001b[0m\u001b[1;33m)\u001b[0m\u001b[1;33m\u001b[0m\u001b[1;33m\u001b[0m\u001b[0m\n\u001b[0m",
      "\u001b[1;31mTypeError\u001b[0m: hidrograma() takes 0 positional arguments but 1 was given"
     ]
    }
   ],
   "source": [
    "estacoes.hidrograma()"
   ]
  },
  {
   "cell_type": "code",
   "execution_count": null,
   "metadata": {},
   "outputs": [],
   "source": [
    "estacoes.df_lista[0].data"
   ]
  },
  {
   "cell_type": "code",
   "execution_count": null,
   "metadata": {},
   "outputs": [],
   "source": [
    "estacoes.vazao_df"
   ]
  },
  {
   "cell_type": "code",
   "execution_count": 8,
   "metadata": {},
   "outputs": [],
   "source": [
    "self = estacoes"
   ]
  },
  {
   "cell_type": "code",
   "execution_count": 46,
   "metadata": {},
   "outputs": [
    {
     "data": {
      "image/png": "[encoded data removed]",
      "text/plain": [
       "<Figure size 1440x360 with 1 Axes>"
      ]
     },
     "metadata": {
      "needs_background": "light"
     },
     "output_type": "display_data"
    }
   ],
   "source": [
    "import matplotlib.pyplot as plt \n",
    "import numpy as np\n",
    "    \n",
    "fig, ax = plt.subplots(figsize=(20,5))\n",
    "\n",
    "x = [i for i in range(len(self.vazao_df))]\n",
    "#xlabel = [self.anomin, self.anomax]\n",
    "xlabel = [1940, 2020]\n",
    "xlabelpos = [0, np.max(x)]\n",
    "\n",
    "maxy = 0\n",
    "for i in self.df_lista:\n",
    "    y = self.vazao_df[i.codigo]\n",
    "    ax.plot(x, y, label=i.codigo)\n",
    "    if np.nanmax(y) > maxy:\n",
    "        maxy = np.nanmax(y)\n",
    "\n",
    "#plt.xlim(0,np.max(x))\n",
    "plt.xlim(0,900)\n",
    "plt.ylim(0,maxy)\n",
    "#plt.xticks(xlabelpos, xlabel)\n",
    "plt.xlabel('Tempo')\n",
    "plt.ylabel('Vazão (m³/s)')\n",
    "plt.title('Hidrograma')\n",
    "plt.grid(linestyle='--')\n",
    "plt.legend()\n",
    "plt.show()  "
   ]
  },
  {
   "cell_type": "code",
   "execution_count": null,
   "metadata": {},
   "outputs": [],
   "source": []
  }
 ],
 "metadata": {
  "kernelspec": {
   "display_name": "Python 3",
   "language": "python",
   "name": "python3"
  },
  "language_info": {
   "codemirror_mode": {
    "name": "ipython",
    "version": 3
   },
   "file_extension": ".py",
   "mimetype": "text/x-python",
   "name": "python",
   "nbconvert_exporter": "python",
   "pygments_lexer": "ipython3",
   "version": "3.8.5"
  }
 },
 "nbformat": 4,
 "nbformat_minor": 4
}
